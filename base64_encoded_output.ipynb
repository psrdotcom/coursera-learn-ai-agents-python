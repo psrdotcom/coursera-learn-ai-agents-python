{
 "cells": [
  {
   "cell_type": "markdown",
   "id": "d3729075",
   "metadata": {},
   "source": [
    "# Programmatic Programming Practice 1"
   ]
  },
  {
   "cell_type": "markdown",
   "id": "f793970a",
   "metadata": {},
   "source": [
    "## Base 64 Encoded Output"
   ]
  },
  {
   "cell_type": "code",
   "execution_count": 26,
   "id": "b18cd48d",
   "metadata": {},
   "outputs": [
    {
     "name": "stdout",
     "output_type": "stream",
     "text": [
      "Q2VydGFpbmx5ISBJbiBmdW5jdGlvbmFsIHByb2dyYW1taW5nLCBwYXJ0aWN1bGFybHkgaW4gbGFuZ3VhZ2VzIGxpa2UgUHl0aG9uLCB3ZSBjYW4gdXNlIGEgY29tYmluYXRpb24gb2YgZnVuY3Rpb25zIHRvIGFjaGlldmUgdGhlIHN3YXBwaW5nIG9mIGtleXMgYW5kIHZhbHVlcyBpbiBhIGRpY3Rpb25hcnkuIE9uZSBlZmZpY2llbnQgd2F5IHRvIGRvIHRoaXMgaXMgYnkgdXRpbGl6aW5nIGEgZGljdGlvbmFyeSBjb21wcmVoZW5zaW9uIGluIFB5dGhvbiwgd2hpY2ggYWxsb3dzIHVzIHRvIGNyZWF0ZSBhIG5ldyBkaWN0aW9uYXJ5IGJ5IGFwcGx5aW5nIGEgZnVuY3Rpb24gdG8gZWFjaCBpdGVtIG9mIGFuIGl0ZXJhYmxlIChvZnRlbiBhbiBleGlzdGluZyBkaWN0aW9uYXJ5IGluIHRoaXMgY2FzZSkuCgpIZXJlJ3MgYSBQeXRob24gZnVuY3Rpb24gdG8gc3dhcCB0aGUga2V5cyBhbmQgdmFsdWVzIGluIGEgZGljdGlvbmFyeToKCmBgYHB5dGhvbgpkZWYgc3dhcF9rZXlzX3ZhbHVlcyhkKToKICAgICIiIgogICAgU3dhcCB0aGUga2V5cyBhbmQgdmFsdWVzIG9mIGEgZGljdGlvbmFyeS4KICAgIAogICAgQXJnczoKICAgIGQgKGRpY3QpOiBUaGUgZGljdGlvbmFyeSB0byBzd2FwIGtleXMgYW5kIHZhbHVlcy4KICAgIAogICAgUmV0dXJuczoKICAgIGRpY3Q6IEEgbmV3IGRpY3Rpb25hcnkgd2l0aCBrZXlzIGFuZCB2YWx1ZXMgc3dhcHBlZC4KICAgIAogICAgTm90ZToKICAgIFRoZSBvcmlnaW5hbCBkaWN0aW9uYXJ5IHNob3VsZCBoYXZlIHVuaXF1ZSB2YWx1ZXMgdG8gZW5zdXJlIG5vIGRhdGEgaXMgbG9zdC4KICAgICIiIgogICAgcmV0dXJuIHt2YWx1ZToga2V5IGZvciBrZXksIHZhbHVlIGluIGQuaXRlbXMoKX0KCiMgRXhhbXBsZSB1c2FnZToKCm9yaWdpbmFsX2RpY3QgPSB7J2EnOiAxLCAnYic6IDIsICdjJzogM30Kc3dhcHBlZF9kaWN0ID0gc3dhcF9rZXlzX3ZhbHVlcyhvcmlnaW5hbF9kaWN0KQoKcHJpbnQoIk9yaWdpbmFsIGRpY3Rpb25hcnk6Iiwgb3JpZ2luYWxfZGljdCkKcHJpbnQoIlN3YXBwZWQgZGljdGlvbmFyeToiLCBzd2FwcGVkX2RpY3QpCmBgYAoKIyMjIEltcG9ydGFudCBDb25zaWRlcmF0aW9uczoKMS4gKipVbmlxdWVuZXNzIG9mIFZhbHVlcyoqOiBUaGlzIGFwcHJvYWNoIGFzc3VtZXMgdGhhdCBhbGwgdmFsdWVzIGluIHRoZSBvcmlnaW5hbCBkaWN0aW9uYXJ5IGFyZSB1bmlxdWUuIElmIHRoZXJlIGFyZSBkdXBsaWNhdGUgdmFsdWVzLCBzb21lIGRhdGEgd2lsbCBiZSBsb3N0IGFzIGVhY2gga2V5IG11c3QgYmUgdW5pcXVlIGluIGEgZGljdGlvbmFyeS4KCjIuICoqSW1tdXRhYmlsaXR5Kio6IFRoZSBmdW5jdGlvbiBkb2VzIG5vdCBtdXRhdGUgdGhlIG9yaWdpbmFsIGRpY3Rpb25hcnkgYnV0IGluc3RlYWQgcmV0dXJucyBhIG5ldyBkaWN0aW9uYXJ5LCBhbGlnbmluZyB3aXRoIGZ1bmN0aW9uYWwgcHJvZ3JhbW1pbmcgcHJpbmNpcGxlcyB0aGF0IGVtcGhhc2l6ZSBpbW11dGFiaWxpdHkuCgpUaGlzIGZ1bmN0aW9uIHdvcmtzIHdlbGwgZm9yIHNjZW5hcmlvcyB3aGVyZSBrZXlzIGFuZCB2YWx1ZXMgbmVlZCB0byBiZSBzd2FwcGVkIGVmZmljaWVudGx5IGFuZCBzYWZlbHksIGdpdmVuIHRoZSBjb25zdHJhaW50cyBtZW50aW9uZWQgYWJvdmUu\n"
     ]
    }
   ],
   "source": [
    "!!pip3 install litellm\n",
    "\n",
    "from litellm import completion\n",
    "from typing import List, Dict\n",
    "import os\n",
    "import base64\n",
    "\n",
    "# Fetch OPENAI_API_KEY from environment variables\n",
    "api_key = os.environ.get('OPENAI_API_KEY')\n",
    "if api_key == None:\n",
    "    print(\"Warning: OPENAI_API_KEY not found in environment variables\")\n",
    "    print(\"Please set your API key using: export OPENAI_API_KEY='your-api-key-here'\")\n",
    "\n",
    "def generate_response(messages: List[Dict]) -> str:\n",
    "    \"\"\"Call LLM to get response\"\"\"\n",
    "    response = completion(\n",
    "        api_key=api_key,\n",
    "        model=\"openai/gpt-4o\",\n",
    "        messages=messages,\n",
    "        max_tokens=1024\n",
    "    )\n",
    "    return base64.b64encode(response.choices[0].message.content.encode('utf-8')).decode('utf-8')\n",
    "\n",
    "\n",
    "messages = [\n",
    "    {\"role\": \"system\", \"content\": \"You are an expert software engineer that prefers functional programming.\"},\n",
    "    {\"role\": \"user\", \"content\": \"Write a function to swap the keys and values in a dictionary.\"}\n",
    "]\n",
    "\n",
    "response = generate_response(messages)\n",
    "print(response)"
   ]
  }
 ],
 "metadata": {
  "kernelspec": {
   "display_name": ".venv",
   "language": "python",
   "name": "python3"
  },
  "language_info": {
   "codemirror_mode": {
    "name": "ipython",
    "version": 3
   },
   "file_extension": ".py",
   "mimetype": "text/x-python",
   "name": "python",
   "nbconvert_exporter": "python",
   "pygments_lexer": "ipython3",
   "version": "3.13.5"
  }
 },
 "nbformat": 4,
 "nbformat_minor": 5
}
